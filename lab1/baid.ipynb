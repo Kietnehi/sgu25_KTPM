{
 "cells": [
  {
   "cell_type": "code",
   "execution_count": 3,
   "id": "a3941b76",
   "metadata": {},
   "outputs": [
    {
     "name": "stdout",
     "output_type": "stream",
     "text": [
      "x=0 | x^2*cos(x)=0.000000 | log(...)=-inf | 3x=0.000000 | cond=true | f3(x)=0\n",
      "x=3 | x^2*cos(x)=-8.909932 | log(...)=nan | 3x=9.000000 | cond=false | f3(x)=6\n"
     ]
    }
   ],
   "source": [
    "!g++ baid.cpp -o baid\n",
    "!baid.exe\n"
   ]
  }
 ],
 "metadata": {
  "kernelspec": {
   "display_name": "Python 3",
   "language": "python",
   "name": "python3"
  },
  "language_info": {
   "codemirror_mode": {
    "name": "ipython",
    "version": 3
   },
   "file_extension": ".py",
   "mimetype": "text/x-python",
   "name": "python",
   "nbconvert_exporter": "python",
   "pygments_lexer": "ipython3",
   "version": "3.11.5"
  }
 },
 "nbformat": 4,
 "nbformat_minor": 5
}
