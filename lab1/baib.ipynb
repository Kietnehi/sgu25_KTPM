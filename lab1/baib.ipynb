{
 "cells": [
  {
   "cell_type": "code",
   "execution_count": 6,
   "id": "f3ca73f6",
   "metadata": {},
   "outputs": [
    {
     "name": "stdout",
     "output_type": "stream",
     "text": [
      "Test case 1: x = 11\n",
      "Output:    f2(11) = 22\n",
      "Expected:  f2(11) = 22\n",
      "Pass ✅\n",
      "------------------------------\n",
      "Test case 2: x = 10\n",
      "Output:    f2(10) = -10\n",
      "Expected:  f2(10) = -10\n",
      "Pass ✅\n",
      "------------------------------\n",
      "Test case 3: x = 5\n",
      "Output:    f2(5) = -5\n",
      "Expected:  f2(5) = -5\n",
      "Pass ✅\n",
      "------------------------------\n",
      "Test case 4: x = 0\n",
      "Output:    f2(0) = 0\n",
      "Expected:  f2(0) = 0\n",
      "Pass ✅\n",
      "------------------------------\n",
      "Test case 5: x = -3\n",
      "Output:    f2(-3) = -6\n",
      "Expected:  f2(-3) = -6\n",
      "Pass ✅\n",
      "------------------------------\n"
     ]
    }
   ],
   "source": [
    "import subprocess, platform\n",
    "\n",
    "# Danh sách test case\n",
    "test_cases = [11, 10, 5, 0, -3]\n",
    "expected   = [22, -10, -5, 0, -6]\n",
    "\n",
    "# Chọn lệnh chạy theo hệ điều hành\n",
    "exe = \"baib.exe\" if platform.system() == \"Windows\" else \"./f2\"\n",
    "\n",
    "for i, x in enumerate(test_cases):\n",
    "    out = subprocess.check_output([exe, str(x)], text=True).strip()\n",
    "    ok = out == f\"f2({x}) = {expected[i]}\"\n",
    "    print(f\"Test case {i+1}: x = {x}\")\n",
    "    print(\"Output:   \", out)\n",
    "    print(\"Expected: \", f\"f2({x}) = {expected[i]}\")\n",
    "    print(\"Pass ✅\" if ok else \"Fail ❌\")\n",
    "    print(\"-\" * 30)\n"
   ]
  }
 ],
 "metadata": {
  "kernelspec": {
   "display_name": "Python 3",
   "language": "python",
   "name": "python3"
  },
  "language_info": {
   "codemirror_mode": {
    "name": "ipython",
    "version": 3
   },
   "file_extension": ".py",
   "mimetype": "text/x-python",
   "name": "python",
   "nbconvert_exporter": "python",
   "pygments_lexer": "ipython3",
   "version": "3.11.5"
  }
 },
 "nbformat": 4,
 "nbformat_minor": 5
}
