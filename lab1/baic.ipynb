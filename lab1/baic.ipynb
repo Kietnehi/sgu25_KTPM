{
 "cells": [
  {
   "cell_type": "code",
   "execution_count": 11,
   "id": "3043946d",
   "metadata": {},
   "outputs": [
    {
     "name": "stdout",
     "output_type": "stream",
     "text": [
      "f2(5) = 10 (expected 10)\n",
      "f2(12) = 24 (expected 24)\n"
     ]
    }
   ],
   "source": [
    "!g++ baic.cpp -o baic.exe\n",
    "!baic.exe\n"
   ]
  }
 ],
 "metadata": {
  "kernelspec": {
   "display_name": "Python 3",
   "language": "python",
   "name": "python3"
  },
  "language_info": {
   "codemirror_mode": {
    "name": "ipython",
    "version": 3
   },
   "file_extension": ".py",
   "mimetype": "text/x-python",
   "name": "python",
   "nbconvert_exporter": "python",
   "pygments_lexer": "ipython3",
   "version": "3.11.5"
  }
 },
 "nbformat": 4,
 "nbformat_minor": 5
}
