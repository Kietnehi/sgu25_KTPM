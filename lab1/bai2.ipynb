{
 "cells": [
  {
   "cell_type": "code",
   "execution_count": 6,
   "id": "b8093972",
   "metadata": {},
   "outputs": [
    {
     "name": "stdout",
     "output_type": "stream",
     "text": [
      "Test #1: a=0.0000000000, b=0.0000000000, c=0.0000000000\n",
      "  Expect: Infinite solutions\n",
      "Test #2: a=0.0000000000, b=0.0000000000, c=5.0000000000\n",
      "  Expect: No solution\n",
      "Test #3: a=0.0000000000, b=2.0000000000, c=-8.0000000000\n",
      "  Expect: 2 distinct real root(s): -2.0000000000 2.0000000000\n",
      "Test #4: a=0.0000000000, b=3.0000000000, c=0.0000000000\n",
      "  Expect: 1 distinct real root(s): 0.0000000000\n",
      "Test #5: a=1.0000000000, b=0.0000000000, c=-1.0000000000\n",
      "  Expect: 2 distinct real root(s): -1.0000000000 1.0000000000\n",
      "Test #6: a=1.0000000000, b=-2.0000000000, c=1.0000000000\n",
      "  Expect: 2 distinct real root(s): -1.0000000000 1.0000000000\n",
      "Test #7: a=1.0000000000, b=2.0000000000, c=1.0000000000\n",
      "  Expect: No solution\n",
      "Test #8: a=1.0000000000, b=0.0000000000, c=0.0000000000\n",
      "  Expect: 1 distinct real root(s): 0.0000000000\n",
      "Test #9: a=1.0000000000, b=1.0000000000, c=-2.0000000000\n",
      "  Expect: 2 distinct real root(s): -1.0000000000 1.0000000000\n",
      "Test #10: a=2.0000000000, b=-3.0000000000, c=1.0000000000\n",
      "  Expect: 4 distinct real root(s): -1.0000000000 -0.7071067812 0.7071067812 1.0000000000\n",
      "Test #11: a=3.0000000000, b=0.0000000000, c=3.0000000000\n",
      "  Expect: No solution\n",
      "Test #12: a=1.0000000000, b=-1.0000000000, c=0.0000000000\n",
      "  Expect: 3 distinct real root(s): -1.0000000000 0.0000000000 1.0000000000\n"
     ]
    }
   ],
   "source": [
    "!g++ -O2 -std=c++98 bai2_2.cpp -o bai2_2tests\n",
    "!bai2_2tests\n"
   ]
  },
  {
   "cell_type": "code",
   "execution_count": 7,
   "id": "1df07cc7",
   "metadata": {},
   "outputs": [
    {
     "name": "stdout",
     "output_type": "stream",
     "text": [
      "[PASS] Test #1 (a=0.0000000000, b=0.0000000000, c=0.0000000000)\n",
      "[PASS] Test #2 (a=0.0000000000, b=0.0000000000, c=5.0000000000)\n",
      "[PASS] Test #3 (a=0.0000000000, b=2.0000000000, c=-8.0000000000)\n",
      "[PASS] Test #4 (a=0.0000000000, b=3.0000000000, c=0.0000000000)\n",
      "[PASS] Test #5 (a=1.0000000000, b=0.0000000000, c=-1.0000000000)\n",
      "[PASS] Test #6 (a=1.0000000000, b=-2.0000000000, c=1.0000000000)\n",
      "[PASS] Test #7 (a=1.0000000000, b=2.0000000000, c=1.0000000000)\n",
      "[PASS] Test #8 (a=1.0000000000, b=0.0000000000, c=0.0000000000)\n",
      "[PASS] Test #9 (a=1.0000000000, b=1.0000000000, c=-2.0000000000)\n",
      "[PASS] Test #10 (a=2.0000000000, b=-3.0000000000, c=1.0000000000)\n",
      "[PASS] Test #11 (a=3.0000000000, b=0.0000000000, c=3.0000000000)\n",
      "[PASS] Test #12 (a=1.0000000000, b=-1.0000000000, c=0.0000000000)\n",
      "\n",
      "Summary: 12/12 tests passed.\n"
     ]
    }
   ],
   "source": [
    "!g++ -O2 -std=c++98 bai2_3.cpp -o bai2_3tests\n",
    "!bai2_3tests\n"
   ]
  }
 ],
 "metadata": {
  "kernelspec": {
   "display_name": "Python 3",
   "language": "python",
   "name": "python3"
  },
  "language_info": {
   "codemirror_mode": {
    "name": "ipython",
    "version": 3
   },
   "file_extension": ".py",
   "mimetype": "text/x-python",
   "name": "python",
   "nbconvert_exporter": "python",
   "pygments_lexer": "ipython3",
   "version": "3.11.5"
  }
 },
 "nbformat": 4,
 "nbformat_minor": 5
}
