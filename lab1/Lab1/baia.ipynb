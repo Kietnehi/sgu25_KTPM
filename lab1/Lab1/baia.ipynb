{
 "cells": [
  {
   "cell_type": "code",
   "execution_count": 7,
   "id": "12545f20",
   "metadata": {},
   "outputs": [
    {
     "name": "stdout",
     "output_type": "stream",
     "text": [
      "=== Kiem thu ham f1 ===\n",
      "Test case 1: x = 9\n",
      "Ket qua: f1(9) = -9\n",
      "-------------------------\n",
      "Test case 2: x = 10\n",
      "Ket qua: f1(10) = -10\n",
      "-------------------------\n",
      "Test case 3: x = 11\n",
      "Ket qua: f1(11) = 22\n",
      "-------------------------\n"
     ]
    }
   ],
   "source": [
    "!g++ baia.cpp -o baia.exe\n",
    "\n",
    "!baia.exe\n"
   ]
  }
 ],
 "metadata": {
  "kernelspec": {
   "display_name": "Python 3",
   "language": "python",
   "name": "python3"
  },
  "language_info": {
   "codemirror_mode": {
    "name": "ipython",
    "version": 3
   },
   "file_extension": ".py",
   "mimetype": "text/x-python",
   "name": "python",
   "nbconvert_exporter": "python",
   "pygments_lexer": "ipython3",
   "version": "3.11.5"
  }
 },
 "nbformat": 4,
 "nbformat_minor": 5
}
