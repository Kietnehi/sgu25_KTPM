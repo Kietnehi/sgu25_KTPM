{
 "cells": [
  {
   "cell_type": "code",
   "execution_count": 2,
   "id": "2a95a511",
   "metadata": {},
   "outputs": [
    {
     "name": "stdout",
     "output_type": "stream",
     "text": [
      "Input: (-5, -2, -9)  => Expected: -2 | Got: -2  [PASS]\n",
      "Input: (5, 5, 3)  => Expected: 5 | Got: 0  [FAIL]\n",
      "Input: (4, 4, 4)  => Expected: 4 | Got: 0  [FAIL]\n",
      "Input: (2, 8, 5)  => Expected: 8 | Got: 8  [PASS]\n"
     ]
    }
   ],
   "source": [
    "!g++ baie.cpp -o baie\n",
    "!baie"
   ]
  }
 ],
 "metadata": {
  "kernelspec": {
   "display_name": "Python 3",
   "language": "python",
   "name": "python3"
  },
  "language_info": {
   "codemirror_mode": {
    "name": "ipython",
    "version": 3
   },
   "file_extension": ".py",
   "mimetype": "text/x-python",
   "name": "python",
   "nbconvert_exporter": "python",
   "pygments_lexer": "ipython3",
   "version": "3.11.5"
  }
 },
 "nbformat": 4,
 "nbformat_minor": 5
}
